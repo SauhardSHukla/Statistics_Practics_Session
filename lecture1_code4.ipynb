{
  "cells": [
    {
      "cell_type": "markdown",
      "id": "415b5498",
      "metadata": {
        "id": "415b5498"
      },
      "source": [
        "<h1> Covariance and Correlation</h1>"
      ]
    },
    {
      "cell_type": "markdown",
      "id": "34f04996",
      "metadata": {
        "id": "34f04996"
      },
      "source": [
        "You will be working on the Amazon Book Review Dataset and\n",
        "<ul><li>Calculate Covariance</li>\n",
        "    <li>Calculate Correlation</li>\n",
        "    </ul>\n"
      ]
    },
    {
      "cell_type": "markdown",
      "id": "2c60a24d",
      "metadata": {
        "id": "2c60a24d"
      },
      "source": [
        "<h3> Import Libraries</h3>"
      ]
    },
    {
      "cell_type": "markdown",
      "id": "4994ec56",
      "metadata": {
        "id": "4994ec56"
      },
      "source": [
        "You will be using two important libraries for this code walkthrough. Matplotlib is a very interesting library in python used for plotting graphs easily. Pandas is used to work with tabular data which are nothing but dataframes and has various inbuilt functions which are quite helpful for data preprocessing like to identify missing Values"
      ]
    },
    {
      "cell_type": "code",
      "execution_count": null,
      "id": "594890fe",
      "metadata": {
        "id": "594890fe"
      },
      "outputs": [],
      "source": [
        "# Import matplotlib, numpy, pandas libraries\n",
        "\n",
        "import pandas as pd\n",
        "import numpy as np\n",
        "import matplotlib.pyplot as plt"
      ]
    },
    {
      "cell_type": "markdown",
      "id": "1dcb245e",
      "metadata": {
        "id": "1dcb245e"
      },
      "source": [
        "<h3>Import Amazon Book Review Dataset</h3>"
      ]
    },
    {
      "cell_type": "markdown",
      "id": "55d64a9a",
      "metadata": {
        "id": "55d64a9a"
      },
      "source": [
        "You will be working on the Amazon Book Review Dataset, find the measures of central tendency for the columns and also drop the missing values"
      ]
    },
    {
      "cell_type": "code",
      "execution_count": null,
      "id": "7645178f",
      "metadata": {
        "id": "7645178f"
      },
      "outputs": [],
      "source": [
        "# Import Dataset using pandas\n",
        "\n",
        "df = pd.read_csv(r\"C:\\Users\\JAY\\Desktop\\amazonbook.csv\")"
      ]
    },
    {
      "cell_type": "markdown",
      "id": "fcedb901",
      "metadata": {
        "id": "fcedb901"
      },
      "source": [
        "<h3>Display the Dataset</h3>"
      ]
    },
    {
      "cell_type": "markdown",
      "id": "2494ede1",
      "metadata": {
        "id": "2494ede1"
      },
      "source": [
        "It is a good practise to display the dataset to make sure the data is correct and also to identify different data types you are working with."
      ]
    },
    {
      "cell_type": "code",
      "execution_count": null,
      "id": "1f1cd647",
      "metadata": {
        "id": "1f1cd647",
        "outputId": "e2def276-7c75-40e3-f5ea-4df8cae56cc4"
      },
      "outputs": [
        {
          "data": {
            "text/html": [
              "<div>\n",
              "<style scoped>\n",
              "    .dataframe tbody tr th:only-of-type {\n",
              "        vertical-align: middle;\n",
              "    }\n",
              "\n",
              "    .dataframe tbody tr th {\n",
              "        vertical-align: top;\n",
              "    }\n",
              "\n",
              "    .dataframe thead th {\n",
              "        text-align: right;\n",
              "    }\n",
              "</style>\n",
              "<table border=\"1\" class=\"dataframe\">\n",
              "  <thead>\n",
              "    <tr style=\"text-align: right;\">\n",
              "      <th></th>\n",
              "      <th>Title</th>\n",
              "      <th>Author</th>\n",
              "      <th>Price</th>\n",
              "      <th>Pages</th>\n",
              "      <th>Reviews</th>\n",
              "      <th>Weight</th>\n",
              "      <th>Language</th>\n",
              "      <th>User Rating</th>\n",
              "      <th>pages</th>\n",
              "    </tr>\n",
              "  </thead>\n",
              "  <tbody>\n",
              "    <tr>\n",
              "      <th>0</th>\n",
              "      <td>Data Analysis Using R (Low Priced Edition): A ...</td>\n",
              "      <td>[ Dr Dhaval Maheta]</td>\n",
              "      <td>6.75</td>\n",
              "      <td>500.0</td>\n",
              "      <td>23.0</td>\n",
              "      <td>2.53</td>\n",
              "      <td>English</td>\n",
              "      <td>3</td>\n",
              "      <td>500</td>\n",
              "    </tr>\n",
              "    <tr>\n",
              "      <th>1</th>\n",
              "      <td>Guerrilla Data Analysis Using Microsoft Excel:...</td>\n",
              "      <td>[ Oz du Soleil,  and , Bill Jelen]</td>\n",
              "      <td>32.07</td>\n",
              "      <td>274.0</td>\n",
              "      <td>10.0</td>\n",
              "      <td>1.40</td>\n",
              "      <td>English</td>\n",
              "      <td>4</td>\n",
              "      <td>274</td>\n",
              "    </tr>\n",
              "    <tr>\n",
              "      <th>2</th>\n",
              "      <td>Python para Principiantes: 2 Libros en 1: Prog...</td>\n",
              "      <td>[ Programming Languages Academy]</td>\n",
              "      <td>19.38</td>\n",
              "      <td>234.0</td>\n",
              "      <td>56.0</td>\n",
              "      <td>1.47</td>\n",
              "      <td>Spanish</td>\n",
              "      <td>3</td>\n",
              "      <td>234</td>\n",
              "    </tr>\n",
              "    <tr>\n",
              "      <th>3</th>\n",
              "      <td>Excel Data Analysis For Dummies (For Dummies (...</td>\n",
              "      <td>[ Paul McFedries]</td>\n",
              "      <td>24.49</td>\n",
              "      <td>368.0</td>\n",
              "      <td>12.0</td>\n",
              "      <td>1.30</td>\n",
              "      <td>English</td>\n",
              "      <td>2</td>\n",
              "      <td>368</td>\n",
              "    </tr>\n",
              "    <tr>\n",
              "      <th>4</th>\n",
              "      <td>SQL for Data Analysis: Advanced Techniques for...</td>\n",
              "      <td>[ Cathy Tanimura]</td>\n",
              "      <td>40.49</td>\n",
              "      <td>360.0</td>\n",
              "      <td>72.0</td>\n",
              "      <td>1.20</td>\n",
              "      <td>English</td>\n",
              "      <td>5</td>\n",
              "      <td>360</td>\n",
              "    </tr>\n",
              "  </tbody>\n",
              "</table>\n",
              "</div>"
            ],
            "text/plain": [
              "                                               Title  \\\n",
              "0  Data Analysis Using R (Low Priced Edition): A ...   \n",
              "1  Guerrilla Data Analysis Using Microsoft Excel:...   \n",
              "2  Python para Principiantes: 2 Libros en 1: Prog...   \n",
              "3  Excel Data Analysis For Dummies (For Dummies (...   \n",
              "4  SQL for Data Analysis: Advanced Techniques for...   \n",
              "\n",
              "                               Author  Price  Pages  Reviews  Weight Language  \\\n",
              "0                 [ Dr Dhaval Maheta]   6.75  500.0     23.0    2.53  English   \n",
              "1  [ Oz du Soleil,  and , Bill Jelen]  32.07  274.0     10.0    1.40  English   \n",
              "2    [ Programming Languages Academy]  19.38  234.0     56.0    1.47  Spanish   \n",
              "3                   [ Paul McFedries]  24.49  368.0     12.0    1.30  English   \n",
              "4                   [ Cathy Tanimura]  40.49  360.0     72.0    1.20  English   \n",
              "\n",
              "   User Rating  pages  \n",
              "0            3    500  \n",
              "1            4    274  \n",
              "2            3    234  \n",
              "3            2    368  \n",
              "4            5    360  "
            ]
          },
          "execution_count": 6,
          "metadata": {},
          "output_type": "execute_result"
        }
      ],
      "source": [
        "# Display the first five rows of dataset\n",
        "\n",
        "df.head(5)"
      ]
    },
    {
      "cell_type": "markdown",
      "id": "573f1fea",
      "metadata": {
        "id": "573f1fea"
      },
      "source": [
        "<h3>Covariance</h3>\n"
      ]
    },
    {
      "cell_type": "markdown",
      "id": "5dfe58f5",
      "metadata": {
        "id": "5dfe58f5"
      },
      "source": [
        "Range is the difference of Maximum and Minimum value of data points"
      ]
    },
    {
      "cell_type": "markdown",
      "id": "6060a730",
      "metadata": {
        "id": "6060a730"
      },
      "source": [
        "<h3>Calculate Covariance</h3>"
      ]
    },
    {
      "cell_type": "markdown",
      "id": "7a8720e1",
      "metadata": {
        "id": "7a8720e1"
      },
      "source": [
        "You will calculate Covariance by creating a function in python<br>\n"
      ]
    },
    {
      "cell_type": "code",
      "execution_count": null,
      "id": "c4403f1c",
      "metadata": {
        "id": "c4403f1c"
      },
      "outputs": [],
      "source": [
        "def calculate_covariance(x, y):\n",
        "\n",
        "    \"\"\" This function calculates\n",
        "    the Covariance of given column\"\"\"\n",
        "    x=x.fillna(0)\n",
        "    y=y.fillna(0)\n",
        "    mean_x = sum(x) / len(x)\n",
        "    mean_y = sum(y) / len(y)\n",
        "    covariance = sum((x_i - mean_x) * (y_i - mean_y) for x_i, y_i in zip(x, y)) / len(x)\n",
        "    return covariance\n",
        "\n"
      ]
    },
    {
      "cell_type": "code",
      "execution_count": null,
      "id": "fe230f45",
      "metadata": {
        "id": "fe230f45",
        "outputId": "506d21ce-d23f-4942-a6c2-a3cc3f9905ca"
      },
      "outputs": [
        {
          "name": "stdout",
          "output_type": "stream",
          "text": [
            "-18607.404993939326\n"
          ]
        }
      ],
      "source": [
        "# Print values for Covariance for columns\n",
        "\n",
        "print(calculate_covariance(df[\"Pages\"],df[\"Reviews\"]))\n"
      ]
    },
    {
      "cell_type": "markdown",
      "id": "ff938426",
      "metadata": {
        "id": "ff938426"
      },
      "source": [
        "<h3>Correlation</h3>"
      ]
    },
    {
      "cell_type": "markdown",
      "id": "43d0eecb",
      "metadata": {
        "id": "43d0eecb"
      },
      "source": [
        "Standard Deviation is the difference of third quartile and first quartile of data points"
      ]
    },
    {
      "cell_type": "markdown",
      "id": "8c32479e",
      "metadata": {
        "id": "8c32479e"
      },
      "source": [
        "<h3>Calculate Correlation</h3>\n",
        "<br>\n",
        "You will calculate Correlation by creating a function in python<br>"
      ]
    },
    {
      "cell_type": "code",
      "execution_count": null,
      "id": "b8f419c7",
      "metadata": {
        "id": "b8f419c7"
      },
      "outputs": [],
      "source": [
        "def calculate_correlation(x,y):\n",
        "\n",
        "    \"\"\" This function calculates\n",
        "    the Correlation of given column\"\"\"\n",
        "    x=x.fillna(0)\n",
        "    y=y.fillna(0)\n",
        "    covariance = calculate_covariance(x, y)\n",
        "    std_dev_x = (sum((x_i - sum(x) / len(x))**2 for x_i in x) / len(x))**0.5\n",
        "    std_dev_y = (sum((y_i - sum(y) / len(y))**2 for y_i in y) / len(y))**0.5\n",
        "    correlation = covariance / (std_dev_x * std_dev_y)\n",
        "\n",
        "    return correlation\n",
        "\n",
        ""
      ]
    },
    {
      "cell_type": "code",
      "execution_count": null,
      "id": "d2adc7de",
      "metadata": {
        "id": "d2adc7de",
        "outputId": "bbb90e34-e310-4a69-e02c-fb790435046b"
      },
      "outputs": [
        {
          "name": "stdout",
          "output_type": "stream",
          "text": [
            "-0.07220835006169597\n"
          ]
        }
      ],
      "source": [
        "# Print values for Correlation for columns\n",
        "\n",
        "print(calculate_correlation(df[\"Pages\"],df[\"Reviews\"]))"
      ]
    },
    {
      "cell_type": "code",
      "execution_count": null,
      "id": "c1c0040e",
      "metadata": {
        "id": "c1c0040e"
      },
      "outputs": [],
      "source": []
    },
    {
      "cell_type": "code",
      "execution_count": null,
      "id": "c963d336",
      "metadata": {
        "id": "c963d336"
      },
      "outputs": [],
      "source": []
    },
    {
      "cell_type": "code",
      "execution_count": null,
      "id": "c1fa8cdd",
      "metadata": {
        "id": "c1fa8cdd"
      },
      "outputs": [],
      "source": []
    },
    {
      "cell_type": "code",
      "execution_count": null,
      "id": "5b37bfcf",
      "metadata": {
        "id": "5b37bfcf"
      },
      "outputs": [],
      "source": []
    }
  ],
  "metadata": {
    "kernelspec": {
      "display_name": "Python 3",
      "language": "python",
      "name": "python3"
    },
    "language_info": {
      "codemirror_mode": {
        "name": "ipython",
        "version": 3
      },
      "file_extension": ".py",
      "mimetype": "text/x-python",
      "name": "python",
      "nbconvert_exporter": "python",
      "pygments_lexer": "ipython3",
      "version": "3.5.6"
    },
    "colab": {
      "provenance": []
    }
  },
  "nbformat": 4,
  "nbformat_minor": 5
}