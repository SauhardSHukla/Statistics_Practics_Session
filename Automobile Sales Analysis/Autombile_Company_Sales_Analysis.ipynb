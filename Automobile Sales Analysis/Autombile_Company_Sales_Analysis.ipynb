{
  "cells": [
    {
      "cell_type": "markdown",
      "id": "8e558ff2",
      "metadata": {
        "id": "8e558ff2"
      },
      "source": [
        "<h2>Analysis of sales of Automobile Company</h2>"
      ]
    },
    {
      "cell_type": "markdown",
      "id": "fba28b06",
      "metadata": {
        "id": "fba28b06"
      },
      "source": [
        "You will be working on the Automobile Sales Dataset and\n",
        "<ul><li>Deal with Anomalies</li>\n",
        "    <li>Summarize Features / Variables</li>\n",
        "    <li>Summarize for different scenarios</li>\n",
        "    <li>Analyze the spread</li>\n",
        "    <li>Calculate relationship strength between variables</li>\n",
        "    </ul>\n"
      ]
    },
    {
      "cell_type": "markdown",
      "id": "0b929f8a",
      "metadata": {
        "id": "0b929f8a"
      },
      "source": [
        "<h3> Import Libraries</h3>"
      ]
    },
    {
      "cell_type": "markdown",
      "id": "3f57f7fb",
      "metadata": {
        "id": "3f57f7fb"
      },
      "source": [
        "You will be using three important libraries which are pandas, matplotlib and numpy."
      ]
    },
    {
      "cell_type": "code",
      "execution_count": 1,
      "id": "76ddc0a7",
      "metadata": {
        "id": "76ddc0a7"
      },
      "outputs": [],
      "source": [
        "# Import necessary libraries\n",
        "\n",
        "import pandas as pd\n",
        "import numpy as np\n",
        "import matplotlib.pyplot as plt\n"
      ]
    },
    {
      "cell_type": "markdown",
      "id": "03fb6a80",
      "metadata": {
        "id": "03fb6a80"
      },
      "source": [
        "<h3>Import Dataset</h3>"
      ]
    },
    {
      "cell_type": "markdown",
      "id": "3cf0613d",
      "metadata": {
        "id": "3cf0613d"
      },
      "source": [
        "You will be working on the Automobile Sales Dataset"
      ]
    },
    {
      "cell_type": "code",
      "execution_count": 2,
      "id": "40b7180d",
      "metadata": {
        "id": "40b7180d"
      },
      "outputs": [],
      "source": [
        "# Import the dataset using pandas\n",
        "\n",
        "df = pd.read_csv(\"Automobile_Sales_data.csv\")"
      ]
    },
    {
      "cell_type": "markdown",
      "id": "bc2bd08d",
      "metadata": {
        "id": "bc2bd08d"
      },
      "source": [
        "<h3>Display the Dataset</h3>"
      ]
    },
    {
      "cell_type": "markdown",
      "id": "2b43f380",
      "metadata": {
        "id": "2b43f380"
      },
      "source": [
        "It is a good practise to display the dataset to make sure the data is correct and also to identify different data types you are working with.\n",
        "\n"
      ]
    },
    {
      "cell_type": "code",
      "execution_count": 3,
      "id": "b0dda9c0",
      "metadata": {
        "id": "b0dda9c0",
        "outputId": "5baa7d81-f554-4772-9795-0d080bf0ae1f"
      },
      "outputs": [
        {
          "data": {
            "text/html": [
              "<div>\n",
              "<style scoped>\n",
              "    .dataframe tbody tr th:only-of-type {\n",
              "        vertical-align: middle;\n",
              "    }\n",
              "\n",
              "    .dataframe tbody tr th {\n",
              "        vertical-align: top;\n",
              "    }\n",
              "\n",
              "    .dataframe thead th {\n",
              "        text-align: right;\n",
              "    }\n",
              "</style>\n",
              "<table border=\"1\" class=\"dataframe\">\n",
              "  <thead>\n",
              "    <tr style=\"text-align: right;\">\n",
              "      <th></th>\n",
              "      <th>ORDER_NUMBER</th>\n",
              "      <th>Quantity_Ordered</th>\n",
              "      <th>Sales</th>\n",
              "      <th>Product_Type</th>\n",
              "      <th>Country</th>\n",
              "      <th>Customer_Rating</th>\n",
              "      <th>Delivery_Time</th>\n",
              "    </tr>\n",
              "  </thead>\n",
              "  <tbody>\n",
              "    <tr>\n",
              "      <th>0</th>\n",
              "      <td>10107</td>\n",
              "      <td>30.0</td>\n",
              "      <td>2871.00</td>\n",
              "      <td>Motorcycles</td>\n",
              "      <td>USA</td>\n",
              "      <td>4</td>\n",
              "      <td>6</td>\n",
              "    </tr>\n",
              "    <tr>\n",
              "      <th>1</th>\n",
              "      <td>10121</td>\n",
              "      <td>34.0</td>\n",
              "      <td>2765.90</td>\n",
              "      <td>Motorcycles</td>\n",
              "      <td>France</td>\n",
              "      <td>2</td>\n",
              "      <td>12</td>\n",
              "    </tr>\n",
              "    <tr>\n",
              "      <th>2</th>\n",
              "      <td>10134</td>\n",
              "      <td>41.0</td>\n",
              "      <td>3884.34</td>\n",
              "      <td>Motorcycles</td>\n",
              "      <td>France</td>\n",
              "      <td>4</td>\n",
              "      <td>5</td>\n",
              "    </tr>\n",
              "    <tr>\n",
              "      <th>3</th>\n",
              "      <td>10145</td>\n",
              "      <td>45.0</td>\n",
              "      <td>3746.70</td>\n",
              "      <td>Motorcycles</td>\n",
              "      <td>USA</td>\n",
              "      <td>2</td>\n",
              "      <td>13</td>\n",
              "    </tr>\n",
              "    <tr>\n",
              "      <th>4</th>\n",
              "      <td>10159</td>\n",
              "      <td>49.0</td>\n",
              "      <td>5205.27</td>\n",
              "      <td>Motorcycles</td>\n",
              "      <td>USA</td>\n",
              "      <td>2</td>\n",
              "      <td>10</td>\n",
              "    </tr>\n",
              "    <tr>\n",
              "      <th>...</th>\n",
              "      <td>...</td>\n",
              "      <td>...</td>\n",
              "      <td>...</td>\n",
              "      <td>...</td>\n",
              "      <td>...</td>\n",
              "      <td>...</td>\n",
              "      <td>...</td>\n",
              "    </tr>\n",
              "    <tr>\n",
              "      <th>2174</th>\n",
              "      <td>10358</td>\n",
              "      <td>27.0</td>\n",
              "      <td>3761.37</td>\n",
              "      <td>Classic Cars</td>\n",
              "      <td>Spain</td>\n",
              "      <td>1</td>\n",
              "      <td>17</td>\n",
              "    </tr>\n",
              "    <tr>\n",
              "      <th>2175</th>\n",
              "      <td>10371</td>\n",
              "      <td>34.0</td>\n",
              "      <td>4301.34</td>\n",
              "      <td>Classic Cars</td>\n",
              "      <td>USA</td>\n",
              "      <td>2</td>\n",
              "      <td>14</td>\n",
              "    </tr>\n",
              "    <tr>\n",
              "      <th>2176</th>\n",
              "      <td>10382</td>\n",
              "      <td>34.0</td>\n",
              "      <td>1864.56</td>\n",
              "      <td>Classic Cars</td>\n",
              "      <td>USA</td>\n",
              "      <td>1</td>\n",
              "      <td>19</td>\n",
              "    </tr>\n",
              "    <tr>\n",
              "      <th>2177</th>\n",
              "      <td>10411</td>\n",
              "      <td>34.0</td>\n",
              "      <td>3576.80</td>\n",
              "      <td>Classic Cars</td>\n",
              "      <td>Canada</td>\n",
              "      <td>4</td>\n",
              "      <td>6</td>\n",
              "    </tr>\n",
              "    <tr>\n",
              "      <th>2178</th>\n",
              "      <td>10424</td>\n",
              "      <td>46.0</td>\n",
              "      <td>3722.32</td>\n",
              "      <td>Classic Cars</td>\n",
              "      <td>Spain</td>\n",
              "      <td>3</td>\n",
              "      <td>10</td>\n",
              "    </tr>\n",
              "  </tbody>\n",
              "</table>\n",
              "<p>2179 rows × 7 columns</p>\n",
              "</div>"
            ],
            "text/plain": [
              "      ORDER_NUMBER  Quantity_Ordered    Sales  Product_Type Country  \\\n",
              "0            10107              30.0  2871.00   Motorcycles     USA   \n",
              "1            10121              34.0  2765.90   Motorcycles  France   \n",
              "2            10134              41.0  3884.34   Motorcycles  France   \n",
              "3            10145              45.0  3746.70   Motorcycles     USA   \n",
              "4            10159              49.0  5205.27   Motorcycles     USA   \n",
              "...            ...               ...      ...           ...     ...   \n",
              "2174         10358              27.0  3761.37  Classic Cars   Spain   \n",
              "2175         10371              34.0  4301.34  Classic Cars     USA   \n",
              "2176         10382              34.0  1864.56  Classic Cars     USA   \n",
              "2177         10411              34.0  3576.80  Classic Cars  Canada   \n",
              "2178         10424              46.0  3722.32  Classic Cars   Spain   \n",
              "\n",
              "      Customer_Rating  Delivery_Time  \n",
              "0                   4              6  \n",
              "1                   2             12  \n",
              "2                   4              5  \n",
              "3                   2             13  \n",
              "4                   2             10  \n",
              "...               ...            ...  \n",
              "2174                1             17  \n",
              "2175                2             14  \n",
              "2176                1             19  \n",
              "2177                4              6  \n",
              "2178                3             10  \n",
              "\n",
              "[2179 rows x 7 columns]"
            ]
          },
          "execution_count": 3,
          "metadata": {},
          "output_type": "execute_result"
        }
      ],
      "source": [
        "# Display th dataset\n",
        "df"
      ]
    },
    {
      "cell_type": "markdown",
      "id": "7c945f77",
      "metadata": {
        "id": "7c945f77"
      },
      "source": [
        "<h3>Check for Missing Values</h3>"
      ]
    },
    {
      "cell_type": "markdown",
      "id": "984dc851",
      "metadata": {
        "id": "984dc851"
      },
      "source": [
        "You will check for missing values using pandas"
      ]
    },
    {
      "cell_type": "code",
      "execution_count": 4,
      "id": "81fece68",
      "metadata": {
        "id": "81fece68",
        "outputId": "8ee33987-304e-4ed4-e6cf-5831cbdf9a20"
      },
      "outputs": [
        {
          "data": {
            "text/plain": [
              "ORDER_NUMBER         0\n",
              "Quantity_Ordered    15\n",
              "Sales               28\n",
              "Product_Type         5\n",
              "Country              0\n",
              "Customer_Rating      0\n",
              "Delivery_Time        0\n",
              "dtype: int64"
            ]
          },
          "execution_count": 4,
          "metadata": {},
          "output_type": "execute_result"
        }
      ],
      "source": [
        "# Check for missing values using isna() method\n",
        "\n",
        "df.isna().sum()"
      ]
    },
    {
      "cell_type": "markdown",
      "id": "429c8db0",
      "metadata": {
        "id": "429c8db0"
      },
      "source": [
        "<br>"
      ]
    },
    {
      "cell_type": "markdown",
      "id": "ef659797",
      "metadata": {
        "id": "ef659797"
      },
      "source": [
        "You found out that the dataset had missing values and reached out to your company, asking if you could delete them or not. Company refused that as they did not want to loose data"
      ]
    },
    {
      "cell_type": "markdown",
      "id": "27042321",
      "metadata": {
        "id": "27042321"
      },
      "source": [
        "<h3>Dealing with Missing Values</h3>\n",
        "<br>\n",
        "You will now fill missing values using the best measure of central tendency\n",
        "<br>"
      ]
    },
    {
      "cell_type": "markdown",
      "id": "4d8055d8",
      "metadata": {
        "id": "4d8055d8"
      },
      "source": [
        "<h3>Identify Outliers</h3>\n",
        "<br>\n",
        "You will now identify outliers using box plot\n",
        "<br>\n"
      ]
    },
    {
      "cell_type": "code",
      "execution_count": 5,
      "id": "93ec0d21",
      "metadata": {
        "id": "93ec0d21",
        "outputId": "42466bd6-9d2b-4706-8540-ff8290d4f6ca"
      },
      "outputs": [
        {
          "data": {
            "image/png": "[encoded data removed]",
            "text/plain": [
              "<Figure size 640x480 with 1 Axes>"
            ]
          },
          "metadata": {},
          "output_type": "display_data"
        }
      ],
      "source": [
        "# Use matplotlib to plot the box plot for Quantity_Ordered\n",
        "Quantity=df.Quantity_Ordered[df.Quantity_Ordered.notnull()]\n",
        "plt.boxplot(Quantity)\n",
        "plt.show()"
      ]
    },
    {
      "cell_type": "code",
      "execution_count": 6,
      "id": "38b93b5c",
      "metadata": {
        "id": "38b93b5c",
        "outputId": "42a45d51-c137-423e-d94f-9c33ccd34d22"
      },
      "outputs": [
        {
          "data": {
            "image/png": "[encoded data removed]",
            "text/plain": [
              "<Figure size 640x480 with 1 Axes>"
            ]
          },
          "metadata": {},
          "output_type": "display_data"
        }
      ],
      "source": [
        "# Use matplotlib to plot the box plot for Sales\n",
        "sales=df.Sales[df.Sales.notnull()]\n",
        "plt.boxplot(sales)\n",
        "plt.show()"
      ]
    },
    {
      "cell_type": "markdown",
      "id": "a4a19a2d",
      "metadata": {
        "id": "a4a19a2d"
      },
      "source": [
        "<h3>Filling the missing values</h3>\n",
        "<br>\n",
        "You will now fill the missing values using pandas fillna()\n",
        "<br>\n"
      ]
    },
    {
      "cell_type": "code",
      "execution_count": 7,
      "id": "bbe7dcda",
      "metadata": {
        "id": "bbe7dcda"
      },
      "outputs": [
        {
          "name": "stderr",
          "output_type": "stream",
          "text": [
            "C:\\Users\\5530\\AppData\\Local\\Temp\\ipykernel_12248\\640551693.py:3: FutureWarning: A value is trying to be set on a copy of a DataFrame or Series through chained assignment using an inplace method.\n",
            "The behavior will change in pandas 3.0. This inplace method will never work because the intermediate object on which we are setting values always behaves as a copy.\n",
            "\n",
            "For example, when doing 'df[col].method(value, inplace=True)', try using 'df.method({col: value}, inplace=True)' or df[col] = df[col].method(value) instead, to perform the operation inplace on the original object.\n",
            "\n",
            "\n",
            "  df[\"Quantity_Ordered\"].fillna(df[\"Quantity_Ordered\"].mean(),inplace=True)\n"
          ]
        }
      ],
      "source": [
        "# Fill missing values for Quantity_Ordered\n",
        "\n",
        "df[\"Quantity_Ordered\"].fillna(df[\"Quantity_Ordered\"].mean(),inplace=True)"
      ]
    },
    {
      "cell_type": "code",
      "execution_count": 8,
      "id": "64f25fa0",
      "metadata": {
        "id": "64f25fa0"
      },
      "outputs": [
        {
          "name": "stderr",
          "output_type": "stream",
          "text": [
            "C:\\Users\\5530\\AppData\\Local\\Temp\\ipykernel_12248\\4035343134.py:2: FutureWarning: A value is trying to be set on a copy of a DataFrame or Series through chained assignment using an inplace method.\n",
            "The behavior will change in pandas 3.0. This inplace method will never work because the intermediate object on which we are setting values always behaves as a copy.\n",
            "\n",
            "For example, when doing 'df[col].method(value, inplace=True)', try using 'df.method({col: value}, inplace=True)' or df[col] = df[col].method(value) instead, to perform the operation inplace on the original object.\n",
            "\n",
            "\n",
            "  df[\"Sales\"].fillna(df[\"Sales\"].median(),inplace=True)\n"
          ]
        }
      ],
      "source": [
        "# Fill Missing Values for  Sales\n",
        "df[\"Sales\"].fillna(df[\"Sales\"].median(),inplace=True)"
      ]
    },
    {
      "cell_type": "code",
      "execution_count": 9,
      "id": "c3cdc6ab",
      "metadata": {
        "id": "c3cdc6ab",
        "outputId": "8c9ce4ea-9ba6-4908-fb76-985f74a9026e"
      },
      "outputs": [
        {
          "data": {
            "text/plain": [
              "0    Classic Cars\n",
              "Name: Product_Type, dtype: object"
            ]
          },
          "execution_count": 9,
          "metadata": {},
          "output_type": "execute_result"
        }
      ],
      "source": [
        "# Fill Missing Values for Product_Type\n",
        "df[\"Product_Type\"].mode()"
      ]
    },
    {
      "cell_type": "code",
      "execution_count": 10,
      "id": "d9e0ce67",
      "metadata": {
        "id": "d9e0ce67"
      },
      "outputs": [
        {
          "name": "stderr",
          "output_type": "stream",
          "text": [
            "C:\\Users\\5530\\AppData\\Local\\Temp\\ipykernel_12248\\3155204573.py:1: FutureWarning: A value is trying to be set on a copy of a DataFrame or Series through chained assignment using an inplace method.\n",
            "The behavior will change in pandas 3.0. This inplace method will never work because the intermediate object on which we are setting values always behaves as a copy.\n",
            "\n",
            "For example, when doing 'df[col].method(value, inplace=True)', try using 'df.method({col: value}, inplace=True)' or df[col] = df[col].method(value) instead, to perform the operation inplace on the original object.\n",
            "\n",
            "\n",
            "  df[\"Product_Type\"].fillna(\"Classic Cars\",inplace=True)\n"
          ]
        }
      ],
      "source": [
        "df[\"Product_Type\"].fillna(\"Classic Cars\",inplace=True)"
      ]
    },
    {
      "cell_type": "markdown",
      "id": "7fdc3135",
      "metadata": {
        "id": "7fdc3135"
      },
      "source": [
        "<h2>Summarize the data columns</h2>\n",
        "<br>\n",
        "Now that you have dealt with anamolies, summarize the data with best measure of central tendency"
      ]
    },
    {
      "cell_type": "code",
      "execution_count": 11,
      "id": "fd5e0f95",
      "metadata": {
        "id": "fd5e0f95",
        "outputId": "4c7c5f11-30d0-4e86-c452-b957dbb5f86c"
      },
      "outputs": [
        {
          "data": {
            "text/plain": [
              "np.float64(3325.92)"
            ]
          },
          "execution_count": 11,
          "metadata": {},
          "output_type": "execute_result"
        }
      ],
      "source": [
        "#  Summarize Sales\n",
        "df[\"Sales\"].median()\n"
      ]
    },
    {
      "cell_type": "code",
      "execution_count": 12,
      "id": "fa069974",
      "metadata": {
        "id": "fa069974",
        "outputId": "fdfd341e-1050-4380-a68a-9346edb8cd91"
      },
      "outputs": [
        {
          "data": {
            "text/plain": [
              "np.float64(34.99214417744916)"
            ]
          },
          "execution_count": 12,
          "metadata": {},
          "output_type": "execute_result"
        }
      ],
      "source": [
        "# Summarize  Quantity Ordered\n",
        "df[\"Quantity_Ordered\"].mean()\n"
      ]
    },
    {
      "cell_type": "code",
      "execution_count": 13,
      "id": "9b60189b",
      "metadata": {
        "id": "9b60189b",
        "outputId": "cced59eb-4465-4444-938f-f74984737110"
      },
      "outputs": [
        {
          "data": {
            "text/plain": [
              "0    Classic Cars\n",
              "Name: Product_Type, dtype: object"
            ]
          },
          "execution_count": 13,
          "metadata": {},
          "output_type": "execute_result"
        }
      ],
      "source": [
        "# Summarize Product_Type\n",
        "df[\"Product_Type\"].mode()"
      ]
    },
    {
      "cell_type": "markdown",
      "id": "8413bac1",
      "metadata": {
        "id": "8413bac1"
      },
      "source": [
        "<h3>Sales Analysis on basis of Product Type</h3>"
      ]
    },
    {
      "cell_type": "markdown",
      "id": "ccbd465e",
      "metadata": {
        "id": "ccbd465e"
      },
      "source": [
        "The company saw the data that you summarized and is happy to look at it. Now they want you to Analyze the sales further on the basis of Product Type and provide them with the data. Also help them decide which product to focus on for this quarter to get maximum revenue."
      ]
    },
    {
      "cell_type": "code",
      "execution_count": 14,
      "id": "0dea7407",
      "metadata": {
        "id": "0dea7407",
        "outputId": "ca4fbd50-2f35-4fbc-cc3a-19bbe4887cda"
      },
      "outputs": [
        {
          "data": {
            "text/plain": [
              "Index(['ORDER_NUMBER', 'Quantity_Ordered', 'Sales', 'Product_Type', 'Country',\n",
              "       'Customer_Rating', 'Delivery_Time'],\n",
              "      dtype='object')"
            ]
          },
          "execution_count": 14,
          "metadata": {},
          "output_type": "execute_result"
        }
      ],
      "source": [
        "df.columns"
      ]
    },
    {
      "cell_type": "code",
      "execution_count": 15,
      "id": "6643b48f",
      "metadata": {
        "id": "6643b48f",
        "outputId": "9a2e6d0d-0719-4182-cdf6-e5f06e4583b7"
      },
      "outputs": [
        {
          "data": {
            "text/plain": [
              "Product_Type\n",
              "Classic Cars        954\n",
              "Motorcycles         328\n",
              "Trucks and Buses    296\n",
              "Vintage Cars        601\n",
              "Name: ORDER_NUMBER, dtype: int64"
            ]
          },
          "execution_count": 15,
          "metadata": {},
          "output_type": "execute_result"
        }
      ],
      "source": [
        "# Find the total count of orders for every product type\n",
        "df.groupby(\"Product_Type\")[\"ORDER_NUMBER\"].count()"
      ]
    },
    {
      "cell_type": "code",
      "execution_count": 16,
      "id": "2465b31f",
      "metadata": {
        "id": "2465b31f",
        "outputId": "b69c4be4-a5c2-4b55-cc7d-d0d482ffd07e"
      },
      "outputs": [
        {
          "data": {
            "text/plain": [
              "Product_Type\n",
              "Classic Cars        3689.940\n",
              "Motorcycles         3140.710\n",
              "Trucks and Buses    3416.275\n",
              "Vintage Cars        2795.270\n",
              "Name: Sales, dtype: float64"
            ]
          },
          "execution_count": 16,
          "metadata": {},
          "output_type": "execute_result"
        }
      ],
      "source": [
        "# Find the Sales summary for every product type\n",
        "df.groupby(\"Product_Type\")[\"Sales\"].median()"
      ]
    },
    {
      "cell_type": "code",
      "execution_count": 17,
      "id": "b1240ab3",
      "metadata": {
        "id": "b1240ab3",
        "outputId": "337df070-9e9a-42f6-860b-86d87a9aaf28"
      },
      "outputs": [
        {
          "data": {
            "text/plain": [
              "Product_Type\n",
              "Classic Cars        34.929679\n",
              "Motorcycles         35.210342\n",
              "Trucks and Buses    35.726351\n",
              "Vintage Cars        34.610610\n",
              "Name: Quantity_Ordered, dtype: float64"
            ]
          },
          "execution_count": 17,
          "metadata": {},
          "output_type": "execute_result"
        }
      ],
      "source": [
        "# Find the Quantity_ordered summary for every product type\n",
        "\n",
        "df.groupby(\"Product_Type\")[\"Quantity_Ordered\"].mean()"
      ]
    },
    {
      "cell_type": "markdown",
      "id": "b4844216",
      "metadata": {
        "id": "b4844216"
      },
      "source": [
        "<h3>Measures of Dispersion</h3>\n",
        "<br>\n",
        "Company saw the data that you sent and also looked at the suggestions you gave. They are planning to increase the focus on Classic cars and market it even more, as it is already performing well for them. But they need more data before, they want to understand what is the range of sales for classic car"
      ]
    },
    {
      "cell_type": "code",
      "execution_count": 18,
      "id": "51fb8dc0",
      "metadata": {
        "id": "51fb8dc0",
        "outputId": "87b9de0a-3fe1-41f4-f20d-af4e5ef741b8"
      },
      "outputs": [
        {
          "data": {
            "text/html": [
              "<div>\n",
              "<style scoped>\n",
              "    .dataframe tbody tr th:only-of-type {\n",
              "        vertical-align: middle;\n",
              "    }\n",
              "\n",
              "    .dataframe tbody tr th {\n",
              "        vertical-align: top;\n",
              "    }\n",
              "\n",
              "    .dataframe thead th {\n",
              "        text-align: right;\n",
              "    }\n",
              "</style>\n",
              "<table border=\"1\" class=\"dataframe\">\n",
              "  <thead>\n",
              "    <tr style=\"text-align: right;\">\n",
              "      <th></th>\n",
              "      <th>ORDER_NUMBER</th>\n",
              "      <th>Quantity_Ordered</th>\n",
              "      <th>Sales</th>\n",
              "      <th>Product_Type</th>\n",
              "      <th>Country</th>\n",
              "      <th>Customer_Rating</th>\n",
              "      <th>Delivery_Time</th>\n",
              "    </tr>\n",
              "  </thead>\n",
              "  <tbody>\n",
              "    <tr>\n",
              "      <th>26</th>\n",
              "      <td>10103</td>\n",
              "      <td>26.0</td>\n",
              "      <td>5404.62</td>\n",
              "      <td>Classic Cars</td>\n",
              "      <td>Norway</td>\n",
              "      <td>2</td>\n",
              "      <td>13</td>\n",
              "    </tr>\n",
              "    <tr>\n",
              "      <th>27</th>\n",
              "      <td>10112</td>\n",
              "      <td>29.0</td>\n",
              "      <td>7209.11</td>\n",
              "      <td>Classic Cars</td>\n",
              "      <td>Sweden</td>\n",
              "      <td>4</td>\n",
              "      <td>4</td>\n",
              "    </tr>\n",
              "    <tr>\n",
              "      <th>28</th>\n",
              "      <td>10126</td>\n",
              "      <td>38.0</td>\n",
              "      <td>7329.06</td>\n",
              "      <td>Classic Cars</td>\n",
              "      <td>Spain</td>\n",
              "      <td>2</td>\n",
              "      <td>14</td>\n",
              "    </tr>\n",
              "    <tr>\n",
              "      <th>29</th>\n",
              "      <td>10140</td>\n",
              "      <td>37.0</td>\n",
              "      <td>7374.10</td>\n",
              "      <td>Classic Cars</td>\n",
              "      <td>USA</td>\n",
              "      <td>1</td>\n",
              "      <td>15</td>\n",
              "    </tr>\n",
              "    <tr>\n",
              "      <th>30</th>\n",
              "      <td>10150</td>\n",
              "      <td>45.0</td>\n",
              "      <td>10993.50</td>\n",
              "      <td>Classic Cars</td>\n",
              "      <td>Singapore</td>\n",
              "      <td>4</td>\n",
              "      <td>7</td>\n",
              "    </tr>\n",
              "  </tbody>\n",
              "</table>\n",
              "</div>"
            ],
            "text/plain": [
              "    ORDER_NUMBER  Quantity_Ordered     Sales  Product_Type    Country  \\\n",
              "26         10103              26.0   5404.62  Classic Cars     Norway   \n",
              "27         10112              29.0   7209.11  Classic Cars     Sweden   \n",
              "28         10126              38.0   7329.06  Classic Cars      Spain   \n",
              "29         10140              37.0   7374.10  Classic Cars        USA   \n",
              "30         10150              45.0  10993.50  Classic Cars  Singapore   \n",
              "\n",
              "    Customer_Rating  Delivery_Time  \n",
              "26                2             13  \n",
              "27                4              4  \n",
              "28                2             14  \n",
              "29                1             15  \n",
              "30                4              7  "
            ]
          },
          "execution_count": 18,
          "metadata": {},
          "output_type": "execute_result"
        }
      ],
      "source": [
        " # Create a dataframe of classic cars\n",
        "\n",
        "dc=df[df[\"Product_Type\"]==\"Classic Cars\"]\n",
        "dc.head(5)"
      ]
    },
    {
      "cell_type": "code",
      "execution_count": 19,
      "id": "fb26fd03",
      "metadata": {
        "id": "fb26fd03",
        "outputId": "00d7270d-99c4-40ba-d3f6-ae3e40e592f8"
      },
      "outputs": [
        {
          "name": "stdout",
          "output_type": "stream",
          "text": [
            "11360.95\n"
          ]
        }
      ],
      "source": [
        "# Find the range\n",
        "range= max(dc[\"Sales\"]) -  min(dc[\"Sales\"])\n",
        "print(range)"
      ]
    },
    {
      "cell_type": "code",
      "execution_count": 20,
      "id": "f04cef49",
      "metadata": {
        "id": "f04cef49",
        "outputId": "2a5f51a0-3fb4-4af5-cb00-1786895e1bc1"
      },
      "outputs": [
        {
          "data": {
            "text/html": [
              "<div>\n",
              "<style scoped>\n",
              "    .dataframe tbody tr th:only-of-type {\n",
              "        vertical-align: middle;\n",
              "    }\n",
              "\n",
              "    .dataframe tbody tr th {\n",
              "        vertical-align: top;\n",
              "    }\n",
              "\n",
              "    .dataframe thead th {\n",
              "        text-align: right;\n",
              "    }\n",
              "</style>\n",
              "<table border=\"1\" class=\"dataframe\">\n",
              "  <thead>\n",
              "    <tr style=\"text-align: right;\">\n",
              "      <th></th>\n",
              "      <th>ORDER_NUMBER</th>\n",
              "      <th>Quantity_Ordered</th>\n",
              "      <th>Sales</th>\n",
              "      <th>Customer_Rating</th>\n",
              "      <th>Delivery_Time</th>\n",
              "    </tr>\n",
              "  </thead>\n",
              "  <tbody>\n",
              "    <tr>\n",
              "      <th>count</th>\n",
              "      <td>954.000000</td>\n",
              "      <td>954.000000</td>\n",
              "      <td>954.000000</td>\n",
              "      <td>954.000000</td>\n",
              "      <td>954.000000</td>\n",
              "    </tr>\n",
              "    <tr>\n",
              "      <th>mean</th>\n",
              "      <td>10256.547170</td>\n",
              "      <td>34.929679</td>\n",
              "      <td>4004.936027</td>\n",
              "      <td>2.454927</td>\n",
              "      <td>11.120545</td>\n",
              "    </tr>\n",
              "    <tr>\n",
              "      <th>std</th>\n",
              "      <td>90.149918</td>\n",
              "      <td>9.461153</td>\n",
              "      <td>2018.998616</td>\n",
              "      <td>1.139099</td>\n",
              "      <td>4.242534</td>\n",
              "    </tr>\n",
              "    <tr>\n",
              "      <th>min</th>\n",
              "      <td>10103.000000</td>\n",
              "      <td>12.000000</td>\n",
              "      <td>640.050000</td>\n",
              "      <td>1.000000</td>\n",
              "      <td>4.000000</td>\n",
              "    </tr>\n",
              "    <tr>\n",
              "      <th>25%</th>\n",
              "      <td>10181.000000</td>\n",
              "      <td>27.000000</td>\n",
              "      <td>2475.600000</td>\n",
              "      <td>1.000000</td>\n",
              "      <td>8.000000</td>\n",
              "    </tr>\n",
              "    <tr>\n",
              "      <th>50%</th>\n",
              "      <td>10259.000000</td>\n",
              "      <td>34.992144</td>\n",
              "      <td>3689.940000</td>\n",
              "      <td>2.000000</td>\n",
              "      <td>11.000000</td>\n",
              "    </tr>\n",
              "    <tr>\n",
              "      <th>75%</th>\n",
              "      <td>10331.000000</td>\n",
              "      <td>43.000000</td>\n",
              "      <td>5263.900000</td>\n",
              "      <td>3.000000</td>\n",
              "      <td>14.000000</td>\n",
              "    </tr>\n",
              "    <tr>\n",
              "      <th>max</th>\n",
              "      <td>10425.000000</td>\n",
              "      <td>66.000000</td>\n",
              "      <td>12001.000000</td>\n",
              "      <td>4.000000</td>\n",
              "      <td>19.000000</td>\n",
              "    </tr>\n",
              "  </tbody>\n",
              "</table>\n",
              "</div>"
            ],
            "text/plain": [
              "       ORDER_NUMBER  Quantity_Ordered         Sales  Customer_Rating  \\\n",
              "count    954.000000        954.000000    954.000000       954.000000   \n",
              "mean   10256.547170         34.929679   4004.936027         2.454927   \n",
              "std       90.149918          9.461153   2018.998616         1.139099   \n",
              "min    10103.000000         12.000000    640.050000         1.000000   \n",
              "25%    10181.000000         27.000000   2475.600000         1.000000   \n",
              "50%    10259.000000         34.992144   3689.940000         2.000000   \n",
              "75%    10331.000000         43.000000   5263.900000         3.000000   \n",
              "max    10425.000000         66.000000  12001.000000         4.000000   \n",
              "\n",
              "       Delivery_Time  \n",
              "count     954.000000  \n",
              "mean       11.120545  \n",
              "std         4.242534  \n",
              "min         4.000000  \n",
              "25%         8.000000  \n",
              "50%        11.000000  \n",
              "75%        14.000000  \n",
              "max        19.000000  "
            ]
          },
          "execution_count": 20,
          "metadata": {},
          "output_type": "execute_result"
        }
      ],
      "source": [
        "# Find IQR\n",
        "\n",
        "dc.describe()"
      ]
    },
    {
      "cell_type": "code",
      "execution_count": 21,
      "id": "0d745cca",
      "metadata": {
        "id": "0d745cca",
        "outputId": "fbefd9ba-a4cb-43bc-cc5e-0e254e6104a4"
      },
      "outputs": [
        {
          "name": "stdout",
          "output_type": "stream",
          "text": [
            "2788.2999999999997\n"
          ]
        }
      ],
      "source": [
        "q3=5263.9\n",
        "q1=2475.6\n",
        "print(q3-q1)"
      ]
    },
    {
      "cell_type": "markdown",
      "id": "a469062f",
      "metadata": {
        "id": "a469062f"
      },
      "source": [
        "The range that you provided was satisfying, now they want to uderstand, how much does the quantity of order deviate from mean quantity to optimise the production of classic cars for every order."
      ]
    },
    {
      "cell_type": "code",
      "execution_count": 22,
      "id": "90e6d222",
      "metadata": {
        "id": "90e6d222",
        "outputId": "f3ccea03-9dec-4acb-a8d1-94f5670be12b"
      },
      "outputs": [
        {
          "data": {
            "text/plain": [
              "np.float64(9.461152864096789)"
            ]
          },
          "execution_count": 22,
          "metadata": {},
          "output_type": "execute_result"
        }
      ],
      "source": [
        "# Find standard deviation for Quantity_Ordered\n",
        "\n",
        "dc[\"Quantity_Ordered\"].std()"
      ]
    },
    {
      "cell_type": "markdown",
      "id": "99852c9b",
      "metadata": {
        "id": "99852c9b"
      },
      "source": [
        "<h3>Choosing Market to target</h3>\n",
        "<br>\n",
        "They were now better able to plan the production of cars. As a last step they want you to tell the best Market they can target"
      ]
    },
    {
      "cell_type": "code",
      "execution_count": 23,
      "id": "1b52043a",
      "metadata": {
        "id": "1b52043a",
        "outputId": "612e1cfd-8389-4e90-e746-24f540fe0d3d"
      },
      "outputs": [
        {
          "data": {
            "text/html": [
              "<div>\n",
              "<style scoped>\n",
              "    .dataframe tbody tr th:only-of-type {\n",
              "        vertical-align: middle;\n",
              "    }\n",
              "\n",
              "    .dataframe tbody tr th {\n",
              "        vertical-align: top;\n",
              "    }\n",
              "\n",
              "    .dataframe thead th {\n",
              "        text-align: right;\n",
              "    }\n",
              "</style>\n",
              "<table border=\"1\" class=\"dataframe\">\n",
              "  <thead>\n",
              "    <tr style=\"text-align: right;\">\n",
              "      <th></th>\n",
              "      <th>ORDER_NUMBER</th>\n",
              "      <th>Quantity_Ordered</th>\n",
              "      <th>Sales</th>\n",
              "      <th>Product_Type</th>\n",
              "      <th>Country</th>\n",
              "      <th>Customer_Rating</th>\n",
              "      <th>Delivery_Time</th>\n",
              "    </tr>\n",
              "  </thead>\n",
              "  <tbody>\n",
              "    <tr>\n",
              "      <th>26</th>\n",
              "      <td>10103</td>\n",
              "      <td>26.0</td>\n",
              "      <td>5404.62</td>\n",
              "      <td>Classic Cars</td>\n",
              "      <td>Norway</td>\n",
              "      <td>2</td>\n",
              "      <td>13</td>\n",
              "    </tr>\n",
              "    <tr>\n",
              "      <th>27</th>\n",
              "      <td>10112</td>\n",
              "      <td>29.0</td>\n",
              "      <td>7209.11</td>\n",
              "      <td>Classic Cars</td>\n",
              "      <td>Sweden</td>\n",
              "      <td>4</td>\n",
              "      <td>4</td>\n",
              "    </tr>\n",
              "    <tr>\n",
              "      <th>28</th>\n",
              "      <td>10126</td>\n",
              "      <td>38.0</td>\n",
              "      <td>7329.06</td>\n",
              "      <td>Classic Cars</td>\n",
              "      <td>Spain</td>\n",
              "      <td>2</td>\n",
              "      <td>14</td>\n",
              "    </tr>\n",
              "    <tr>\n",
              "      <th>29</th>\n",
              "      <td>10140</td>\n",
              "      <td>37.0</td>\n",
              "      <td>7374.10</td>\n",
              "      <td>Classic Cars</td>\n",
              "      <td>USA</td>\n",
              "      <td>1</td>\n",
              "      <td>15</td>\n",
              "    </tr>\n",
              "    <tr>\n",
              "      <th>30</th>\n",
              "      <td>10150</td>\n",
              "      <td>45.0</td>\n",
              "      <td>10993.50</td>\n",
              "      <td>Classic Cars</td>\n",
              "      <td>Singapore</td>\n",
              "      <td>4</td>\n",
              "      <td>7</td>\n",
              "    </tr>\n",
              "  </tbody>\n",
              "</table>\n",
              "</div>"
            ],
            "text/plain": [
              "    ORDER_NUMBER  Quantity_Ordered     Sales  Product_Type    Country  \\\n",
              "26         10103              26.0   5404.62  Classic Cars     Norway   \n",
              "27         10112              29.0   7209.11  Classic Cars     Sweden   \n",
              "28         10126              38.0   7329.06  Classic Cars      Spain   \n",
              "29         10140              37.0   7374.10  Classic Cars        USA   \n",
              "30         10150              45.0  10993.50  Classic Cars  Singapore   \n",
              "\n",
              "    Customer_Rating  Delivery_Time  \n",
              "26                2             13  \n",
              "27                4              4  \n",
              "28                2             14  \n",
              "29                1             15  \n",
              "30                4              7  "
            ]
          },
          "execution_count": 23,
          "metadata": {},
          "output_type": "execute_result"
        }
      ],
      "source": [
        "dc.head(5)"
      ]
    },
    {
      "cell_type": "code",
      "execution_count": 24,
      "id": "1d356c00",
      "metadata": {
        "id": "1d356c00",
        "outputId": "b6d8c6a1-b340-49b3-9110-4e149bc43f9c"
      },
      "outputs": [
        {
          "data": {
            "text/plain": [
              "Country\n",
              "USA            1318745.70\n",
              "Spain           475631.19\n",
              "France          367429.93\n",
              "Australia       193085.54\n",
              "UK              156659.35\n",
              "Denmark         151028.75\n",
              "Germany         147800.02\n",
              "Finland         145801.11\n",
              "Singapore       130518.46\n",
              "Norway          128909.43\n",
              "Italy           122557.39\n",
              "Switzerland     117713.56\n",
              "Austria          83432.28\n",
              "Sweden           67563.68\n",
              "Canada           61623.22\n",
              "Philippines      53112.09\n",
              "Japan            47271.49\n",
              "Ireland          31688.82\n",
              "Belgium          20136.96\n",
              "Name: Sales, dtype: float64"
            ]
          },
          "execution_count": 24,
          "metadata": {},
          "output_type": "execute_result"
        }
      ],
      "source": [
        "# Find the country from prespective of sales amount\n",
        "dc.groupby(\"Country\")[\"Sales\"].sum().sort_values(ascending=False)\n",
        " # USA"
      ]
    },
    {
      "cell_type": "code",
      "execution_count": 25,
      "id": "4b35db0f",
      "metadata": {
        "id": "4b35db0f",
        "outputId": "e6939806-d8f0-4c44-eb57-e52fa7e667e1"
      },
      "outputs": [
        {
          "data": {
            "text/plain": [
              "0    USA\n",
              "Name: Country, dtype: object"
            ]
          },
          "execution_count": 25,
          "metadata": {},
          "output_type": "execute_result"
        }
      ],
      "source": [
        "# Find the country from the a prespective of maximum number of orders\n",
        "dc[\"Country\"].mode()"
      ]
    },
    {
      "cell_type": "markdown",
      "id": "a4094381",
      "metadata": {
        "id": "a4094381"
      },
      "source": [
        "<h3>Customer Satisfaction</h3>\n",
        "<br>\n",
        "Wait, can you also check if there is anything that makes the customer happy? Help the company understand there customers better.\n",
        "    "
      ]
    },
    {
      "cell_type": "code",
      "execution_count": 26,
      "id": "bd67823a",
      "metadata": {
        "id": "bd67823a",
        "outputId": "f5c9b76f-b1df-4884-bc9e-9e09595cbefd"
      },
      "outputs": [
        {
          "data": {
            "text/html": [
              "<div>\n",
              "<style scoped>\n",
              "    .dataframe tbody tr th:only-of-type {\n",
              "        vertical-align: middle;\n",
              "    }\n",
              "\n",
              "    .dataframe tbody tr th {\n",
              "        vertical-align: top;\n",
              "    }\n",
              "\n",
              "    .dataframe thead th {\n",
              "        text-align: right;\n",
              "    }\n",
              "</style>\n",
              "<table border=\"1\" class=\"dataframe\">\n",
              "  <thead>\n",
              "    <tr style=\"text-align: right;\">\n",
              "      <th></th>\n",
              "      <th>ORDER_NUMBER</th>\n",
              "      <th>Quantity_Ordered</th>\n",
              "      <th>Sales</th>\n",
              "      <th>Product_Type</th>\n",
              "      <th>Country</th>\n",
              "      <th>Customer_Rating</th>\n",
              "      <th>Delivery_Time</th>\n",
              "    </tr>\n",
              "  </thead>\n",
              "  <tbody>\n",
              "    <tr>\n",
              "      <th>0</th>\n",
              "      <td>10107</td>\n",
              "      <td>30.0</td>\n",
              "      <td>2871.00</td>\n",
              "      <td>Motorcycles</td>\n",
              "      <td>USA</td>\n",
              "      <td>4</td>\n",
              "      <td>6</td>\n",
              "    </tr>\n",
              "    <tr>\n",
              "      <th>1</th>\n",
              "      <td>10121</td>\n",
              "      <td>34.0</td>\n",
              "      <td>2765.90</td>\n",
              "      <td>Motorcycles</td>\n",
              "      <td>France</td>\n",
              "      <td>2</td>\n",
              "      <td>12</td>\n",
              "    </tr>\n",
              "    <tr>\n",
              "      <th>2</th>\n",
              "      <td>10134</td>\n",
              "      <td>41.0</td>\n",
              "      <td>3884.34</td>\n",
              "      <td>Motorcycles</td>\n",
              "      <td>France</td>\n",
              "      <td>4</td>\n",
              "      <td>5</td>\n",
              "    </tr>\n",
              "    <tr>\n",
              "      <th>3</th>\n",
              "      <td>10145</td>\n",
              "      <td>45.0</td>\n",
              "      <td>3746.70</td>\n",
              "      <td>Motorcycles</td>\n",
              "      <td>USA</td>\n",
              "      <td>2</td>\n",
              "      <td>13</td>\n",
              "    </tr>\n",
              "    <tr>\n",
              "      <th>4</th>\n",
              "      <td>10159</td>\n",
              "      <td>49.0</td>\n",
              "      <td>5205.27</td>\n",
              "      <td>Motorcycles</td>\n",
              "      <td>USA</td>\n",
              "      <td>2</td>\n",
              "      <td>10</td>\n",
              "    </tr>\n",
              "  </tbody>\n",
              "</table>\n",
              "</div>"
            ],
            "text/plain": [
              "   ORDER_NUMBER  Quantity_Ordered    Sales Product_Type Country  \\\n",
              "0         10107              30.0  2871.00  Motorcycles     USA   \n",
              "1         10121              34.0  2765.90  Motorcycles  France   \n",
              "2         10134              41.0  3884.34  Motorcycles  France   \n",
              "3         10145              45.0  3746.70  Motorcycles     USA   \n",
              "4         10159              49.0  5205.27  Motorcycles     USA   \n",
              "\n",
              "   Customer_Rating  Delivery_Time  \n",
              "0                4              6  \n",
              "1                2             12  \n",
              "2                4              5  \n",
              "3                2             13  \n",
              "4                2             10  "
            ]
          },
          "execution_count": 26,
          "metadata": {},
          "output_type": "execute_result"
        }
      ],
      "source": [
        "df.head(5)"
      ]
    },
    {
      "cell_type": "code",
      "execution_count": 27,
      "id": "9030af30",
      "metadata": {
        "id": "9030af30",
        "outputId": "4cdab1c8-dd1b-4b48-ddcd-13dadb0e01de"
      },
      "outputs": [
        {
          "data": {
            "text/plain": [
              "np.float64(-0.9261539595326399)"
            ]
          },
          "execution_count": 27,
          "metadata": {},
          "output_type": "execute_result"
        }
      ],
      "source": [
        "# Check correlation between Customer_Rating and Delievery Time\n",
        "df[\"Customer_Rating\"].corr(df[\"Delivery_Time\"])"
      ]
    }
  ],
  "metadata": {
    "colab": {
      "provenance": []
    },
    "kernelspec": {
      "display_name": "Python 3",
      "language": "python",
      "name": "python3"
    },
    "language_info": {
      "codemirror_mode": {
        "name": "ipython",
        "version": 3
      },
      "file_extension": ".py",
      "mimetype": "text/x-python",
      "name": "python",
      "nbconvert_exporter": "python",
      "pygments_lexer": "ipython3",
      "version": "3.12.3"
    }
  },
  "nbformat": 4,
  "nbformat_minor": 5
}
