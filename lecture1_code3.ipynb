{
  "cells": [
    {
      "cell_type": "markdown",
      "id": "8946c0a6",
      "metadata": {
        "id": "8946c0a6"
      },
      "source": [
        "<h1> Variance and Standard Deviation</h1>"
      ]
    },
    {
      "cell_type": "markdown",
      "id": "1f59c778",
      "metadata": {
        "id": "1f59c778"
      },
      "source": [
        "You will be working on the Amazon Book Review Dataset and\n",
        "<ul><li>Calculate Variance</li>\n",
        "    <li>Calculate Standard Deviation</li>\n",
        "    </ul>\n"
      ]
    },
    {
      "cell_type": "markdown",
      "id": "7ac40f32",
      "metadata": {
        "id": "7ac40f32"
      },
      "source": [
        "<h3> Import Libraries</h3>"
      ]
    },
    {
      "cell_type": "markdown",
      "id": "15943990",
      "metadata": {
        "id": "15943990"
      },
      "source": [
        "You will be using two important libraries for this code walkthrough. Matplotlib is a very interesting library in python used for plotting graphs easily. Pandas is used to work with tabular data which are nothing but dataframes and has various inbuilt functions which are quite helpful for data preprocessing like to identify missing Values"
      ]
    },
    {
      "cell_type": "code",
      "execution_count": null,
      "id": "0871a216",
      "metadata": {
        "id": "0871a216"
      },
      "outputs": [],
      "source": [
        "# Import matplotlib, numpy, pandas libraries\n",
        "\n",
        "import pandas as pd\n",
        "import numpy as np\n",
        "import matplotlib.pyplot as plt"
      ]
    },
    {
      "cell_type": "markdown",
      "id": "acebdf52",
      "metadata": {
        "id": "acebdf52"
      },
      "source": [
        "<h3>Import Amazon Book Review Dataset</h3>"
      ]
    },
    {
      "cell_type": "markdown",
      "id": "a81af657",
      "metadata": {
        "id": "a81af657"
      },
      "source": [
        "You will be working on the Amazon Book Review Dataset, find the measures of central tendency for the columns and also drop the missing values"
      ]
    },
    {
      "cell_type": "code",
      "execution_count": null,
      "id": "09c27fbc",
      "metadata": {
        "id": "09c27fbc"
      },
      "outputs": [],
      "source": [
        "# Import Dataset using pandas\n",
        "\n",
        "df = pd.read_csv(r\"C:\\Users\\JAY\\Desktop\\amazonbook.csv\")"
      ]
    },
    {
      "cell_type": "markdown",
      "id": "956c148a",
      "metadata": {
        "id": "956c148a"
      },
      "source": [
        "<h3>Display the Dataset</h3>"
      ]
    },
    {
      "cell_type": "markdown",
      "id": "983f2888",
      "metadata": {
        "id": "983f2888"
      },
      "source": [
        "It is a good practise to display the dataset to make sure the data is correct and also to identify different data types you are working with."
      ]
    },
    {
      "cell_type": "code",
      "execution_count": null,
      "id": "a5a439a3",
      "metadata": {
        "id": "a5a439a3",
        "outputId": "8ddffbae-77c9-4363-cd24-e1d3b593fb7d"
      },
      "outputs": [
        {
          "data": {
            "text/html": [
              "<div>\n",
              "<style scoped>\n",
              "    .dataframe tbody tr th:only-of-type {\n",
              "        vertical-align: middle;\n",
              "    }\n",
              "\n",
              "    .dataframe tbody tr th {\n",
              "        vertical-align: top;\n",
              "    }\n",
              "\n",
              "    .dataframe thead th {\n",
              "        text-align: right;\n",
              "    }\n",
              "</style>\n",
              "<table border=\"1\" class=\"dataframe\">\n",
              "  <thead>\n",
              "    <tr style=\"text-align: right;\">\n",
              "      <th></th>\n",
              "      <th>Title</th>\n",
              "      <th>Author</th>\n",
              "      <th>Price</th>\n",
              "      <th>Pages</th>\n",
              "      <th>Reviews</th>\n",
              "      <th>Weight</th>\n",
              "      <th>Language</th>\n",
              "      <th>User Rating</th>\n",
              "      <th>pages</th>\n",
              "    </tr>\n",
              "  </thead>\n",
              "  <tbody>\n",
              "    <tr>\n",
              "      <th>0</th>\n",
              "      <td>Data Analysis Using R (Low Priced Edition): A ...</td>\n",
              "      <td>[ Dr Dhaval Maheta]</td>\n",
              "      <td>6.75</td>\n",
              "      <td>500.0</td>\n",
              "      <td>23.0</td>\n",
              "      <td>2.53</td>\n",
              "      <td>English</td>\n",
              "      <td>3</td>\n",
              "      <td>500</td>\n",
              "    </tr>\n",
              "    <tr>\n",
              "      <th>1</th>\n",
              "      <td>Guerrilla Data Analysis Using Microsoft Excel:...</td>\n",
              "      <td>[ Oz du Soleil,  and , Bill Jelen]</td>\n",
              "      <td>32.07</td>\n",
              "      <td>274.0</td>\n",
              "      <td>10.0</td>\n",
              "      <td>1.40</td>\n",
              "      <td>English</td>\n",
              "      <td>4</td>\n",
              "      <td>274</td>\n",
              "    </tr>\n",
              "    <tr>\n",
              "      <th>2</th>\n",
              "      <td>Python para Principiantes: 2 Libros en 1: Prog...</td>\n",
              "      <td>[ Programming Languages Academy]</td>\n",
              "      <td>19.38</td>\n",
              "      <td>234.0</td>\n",
              "      <td>56.0</td>\n",
              "      <td>1.47</td>\n",
              "      <td>Spanish</td>\n",
              "      <td>3</td>\n",
              "      <td>234</td>\n",
              "    </tr>\n",
              "    <tr>\n",
              "      <th>3</th>\n",
              "      <td>Excel Data Analysis For Dummies (For Dummies (...</td>\n",
              "      <td>[ Paul McFedries]</td>\n",
              "      <td>24.49</td>\n",
              "      <td>368.0</td>\n",
              "      <td>12.0</td>\n",
              "      <td>1.30</td>\n",
              "      <td>English</td>\n",
              "      <td>2</td>\n",
              "      <td>368</td>\n",
              "    </tr>\n",
              "    <tr>\n",
              "      <th>4</th>\n",
              "      <td>SQL for Data Analysis: Advanced Techniques for...</td>\n",
              "      <td>[ Cathy Tanimura]</td>\n",
              "      <td>40.49</td>\n",
              "      <td>360.0</td>\n",
              "      <td>72.0</td>\n",
              "      <td>1.20</td>\n",
              "      <td>English</td>\n",
              "      <td>5</td>\n",
              "      <td>360</td>\n",
              "    </tr>\n",
              "  </tbody>\n",
              "</table>\n",
              "</div>"
            ],
            "text/plain": [
              "                                               Title  \\\n",
              "0  Data Analysis Using R (Low Priced Edition): A ...   \n",
              "1  Guerrilla Data Analysis Using Microsoft Excel:...   \n",
              "2  Python para Principiantes: 2 Libros en 1: Prog...   \n",
              "3  Excel Data Analysis For Dummies (For Dummies (...   \n",
              "4  SQL for Data Analysis: Advanced Techniques for...   \n",
              "\n",
              "                               Author  Price  Pages  Reviews  Weight Language  \\\n",
              "0                 [ Dr Dhaval Maheta]   6.75  500.0     23.0    2.53  English   \n",
              "1  [ Oz du Soleil,  and , Bill Jelen]  32.07  274.0     10.0    1.40  English   \n",
              "2    [ Programming Languages Academy]  19.38  234.0     56.0    1.47  Spanish   \n",
              "3                   [ Paul McFedries]  24.49  368.0     12.0    1.30  English   \n",
              "4                   [ Cathy Tanimura]  40.49  360.0     72.0    1.20  English   \n",
              "\n",
              "   User Rating  pages  \n",
              "0            3    500  \n",
              "1            4    274  \n",
              "2            3    234  \n",
              "3            2    368  \n",
              "4            5    360  "
            ]
          },
          "execution_count": 3,
          "metadata": {},
          "output_type": "execute_result"
        }
      ],
      "source": [
        "# Display the first five rows of dataset\n",
        "\n",
        "df.head(5)"
      ]
    },
    {
      "cell_type": "markdown",
      "id": "cbeda968",
      "metadata": {
        "id": "cbeda968"
      },
      "source": [
        "<h3>Variance</h3>\n"
      ]
    },
    {
      "cell_type": "markdown",
      "id": "093bbfa1",
      "metadata": {
        "id": "093bbfa1"
      },
      "source": [
        "Range is the difference of Maximum and Minimum value of data points"
      ]
    },
    {
      "cell_type": "markdown",
      "id": "43e86368",
      "metadata": {
        "id": "43e86368"
      },
      "source": [
        "<h3>Calculate Variance</h3>"
      ]
    },
    {
      "cell_type": "markdown",
      "id": "d3985245",
      "metadata": {
        "id": "d3985245"
      },
      "source": [
        "You will calculate Variance by creating a function in python<br>\n"
      ]
    },
    {
      "cell_type": "code",
      "execution_count": null,
      "id": "ac8daf7c",
      "metadata": {
        "id": "ac8daf7c"
      },
      "outputs": [],
      "source": [
        "def calculate_variance(data):\n",
        "\n",
        "    \"\"\" This function calculates\n",
        "    the Variance of given column\"\"\"\n",
        "\n",
        "    data=data.dropna()\n",
        "    mean = sum(data) / len(data)\n",
        "    squared_diff = [(x - mean) ** 2 for x in data]\n",
        "    variance = sum(squared_diff) / len(data)\n",
        "    return variance\n"
      ]
    },
    {
      "cell_type": "code",
      "execution_count": null,
      "id": "fd9ac42b",
      "metadata": {
        "id": "fd9ac42b",
        "outputId": "44d5df99-52db-4182-c049-fdbfb0bc08a6"
      },
      "outputs": [
        {
          "name": "stdout",
          "output_type": "stream",
          "text": [
            "33304.6001822697\n",
            "1781118.607172765\n",
            "4020.554583894445\n"
          ]
        }
      ],
      "source": [
        "# Print values for range for columns\n",
        "\n",
        "print(calculate_variance(df[\"Pages\"]))\n",
        "print(calculate_variance(df[\"Reviews\"]))\n",
        "print(calculate_variance(df[\"Price\"]))"
      ]
    },
    {
      "cell_type": "markdown",
      "id": "568158d5",
      "metadata": {
        "id": "568158d5"
      },
      "source": [
        "<h3>Standard Deviation</h3>"
      ]
    },
    {
      "cell_type": "markdown",
      "id": "9929795f",
      "metadata": {
        "id": "9929795f"
      },
      "source": [
        "Standard Deviation is the difference of third quartile and first quartile of data points"
      ]
    },
    {
      "cell_type": "markdown",
      "id": "39c8fe20",
      "metadata": {
        "id": "39c8fe20"
      },
      "source": [
        "<h3>Calculate Standard Deviation</h3>\n",
        "<br>\n",
        "You will calculate standard deviation by creating a function in python<br>"
      ]
    },
    {
      "cell_type": "code",
      "execution_count": null,
      "id": "0094b1e5",
      "metadata": {
        "id": "0094b1e5"
      },
      "outputs": [],
      "source": [
        "def calculate_sd(data):\n",
        "\n",
        "    \"\"\" This function calculates\n",
        "    the Standard Deviation of given column\"\"\"\n",
        "\n",
        "    variance = calculate_variance(data)\n",
        "    sd = variance ** 0.5\n",
        "    return sd\n",
        "\n",
        ""
      ]
    },
    {
      "cell_type": "code",
      "execution_count": null,
      "id": "bda4d0d4",
      "metadata": {
        "id": "bda4d0d4",
        "outputId": "7266bfb9-3cfc-4bcb-dd1a-8437a6dc6a0d"
      },
      "outputs": [
        {
          "name": "stdout",
          "output_type": "stream",
          "text": [
            "182.49547989544755\n",
            "1334.585556333038\n",
            "63.40784323642025\n"
          ]
        }
      ],
      "source": [
        "# Print values for IQR for columns\n",
        "\n",
        "print(calculate_sd(df[\"Pages\"]))\n",
        "print(calculate_sd(df[\"Reviews\"]))\n",
        "print(calculate_sd(df[\"Price\"]))"
      ]
    },
    {
      "cell_type": "code",
      "execution_count": null,
      "id": "b3d65047",
      "metadata": {
        "id": "b3d65047"
      },
      "outputs": [],
      "source": []
    },
    {
      "cell_type": "code",
      "execution_count": null,
      "id": "563e3107",
      "metadata": {
        "id": "563e3107"
      },
      "outputs": [],
      "source": []
    },
    {
      "cell_type": "code",
      "execution_count": null,
      "id": "d0d3256a",
      "metadata": {
        "id": "d0d3256a"
      },
      "outputs": [],
      "source": []
    },
    {
      "cell_type": "code",
      "execution_count": null,
      "id": "6ab7b8cd",
      "metadata": {
        "id": "6ab7b8cd"
      },
      "outputs": [],
      "source": []
    }
  ],
  "metadata": {
    "kernelspec": {
      "display_name": "Python 3",
      "language": "python",
      "name": "python3"
    },
    "language_info": {
      "codemirror_mode": {
        "name": "ipython",
        "version": 3
      },
      "file_extension": ".py",
      "mimetype": "text/x-python",
      "name": "python",
      "nbconvert_exporter": "python",
      "pygments_lexer": "ipython3",
      "version": "3.5.6"
    },
    "colab": {
      "provenance": []
    }
  },
  "nbformat": 4,
  "nbformat_minor": 5
}