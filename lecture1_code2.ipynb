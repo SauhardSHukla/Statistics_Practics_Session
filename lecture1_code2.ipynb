{
  "cells": [
    {
      "cell_type": "markdown",
      "id": "152fa200",
      "metadata": {
        "id": "152fa200"
      },
      "source": [
        "<h1> Range and IQR </h1>"
      ]
    },
    {
      "cell_type": "markdown",
      "id": "9362eae5",
      "metadata": {
        "id": "9362eae5"
      },
      "source": [
        "You will be working on the Amazon Book Review Dataset and\n",
        "<ul><li>Calculate Range</li>\n",
        "    <li>Calculate IQR</li>\n",
        "    </ul>\n"
      ]
    },
    {
      "cell_type": "markdown",
      "id": "b1d571cc",
      "metadata": {
        "id": "b1d571cc"
      },
      "source": [
        "<h3> Import Libraries</h3>"
      ]
    },
    {
      "cell_type": "markdown",
      "id": "d66033f4",
      "metadata": {
        "id": "d66033f4"
      },
      "source": [
        "You will be using two important libraries for this code walkthrough. Matplotlib is a very interesting library in python used for plotting graphs easily. Pandas is used to work with tabular data which are nothing but dataframes and has various inbuilt functions which are quite helpful for data preprocessing like to identify missing Values"
      ]
    },
    {
      "cell_type": "code",
      "execution_count": null,
      "id": "8bf88610",
      "metadata": {
        "id": "8bf88610"
      },
      "outputs": [],
      "source": [
        "# Import matplotlib, numpy, pandas libraries\n",
        "\n",
        "import pandas as pd\n",
        "import numpy as np\n",
        "import matplotlib.pyplot as plt"
      ]
    },
    {
      "cell_type": "markdown",
      "id": "a77382d9",
      "metadata": {
        "id": "a77382d9"
      },
      "source": [
        "<h3>Import Amazon Book Review Dataset</h3>"
      ]
    },
    {
      "cell_type": "markdown",
      "id": "119be494",
      "metadata": {
        "id": "119be494"
      },
      "source": [
        "You will be working on the Amazon Book Review Dataset, find the measures of central tendency for the columns and also drop the missing values"
      ]
    },
    {
      "cell_type": "code",
      "execution_count": null,
      "id": "d07ed4aa",
      "metadata": {
        "id": "d07ed4aa"
      },
      "outputs": [],
      "source": [
        "# Import Dataset using pandas\n",
        "\n",
        "df=pd.read_csv(r\"C:\\Users\\JAY\\Desktop\\amazonbook.csv\")"
      ]
    },
    {
      "cell_type": "markdown",
      "id": "4f771d6c",
      "metadata": {
        "id": "4f771d6c"
      },
      "source": [
        "<h3>Display the Dataset</h3>"
      ]
    },
    {
      "cell_type": "markdown",
      "id": "c3d9c45e",
      "metadata": {
        "id": "c3d9c45e"
      },
      "source": [
        "It is a good practise to display the dataset to make sure the data is correct and also to identify different data types you are working with."
      ]
    },
    {
      "cell_type": "code",
      "execution_count": null,
      "id": "151551e0",
      "metadata": {
        "id": "151551e0",
        "outputId": "6bd38178-bc78-4b10-a6e5-c5e0492e988a"
      },
      "outputs": [
        {
          "data": {
            "text/html": [
              "<div>\n",
              "<style scoped>\n",
              "    .dataframe tbody tr th:only-of-type {\n",
              "        vertical-align: middle;\n",
              "    }\n",
              "\n",
              "    .dataframe tbody tr th {\n",
              "        vertical-align: top;\n",
              "    }\n",
              "\n",
              "    .dataframe thead th {\n",
              "        text-align: right;\n",
              "    }\n",
              "</style>\n",
              "<table border=\"1\" class=\"dataframe\">\n",
              "  <thead>\n",
              "    <tr style=\"text-align: right;\">\n",
              "      <th></th>\n",
              "      <th>Title</th>\n",
              "      <th>Author</th>\n",
              "      <th>Price</th>\n",
              "      <th>Pages</th>\n",
              "      <th>Reviews</th>\n",
              "      <th>Weight</th>\n",
              "      <th>Language</th>\n",
              "      <th>User Rating</th>\n",
              "      <th>pages</th>\n",
              "    </tr>\n",
              "  </thead>\n",
              "  <tbody>\n",
              "    <tr>\n",
              "      <th>0</th>\n",
              "      <td>Data Analysis Using R (Low Priced Edition): A ...</td>\n",
              "      <td>[ Dr Dhaval Maheta]</td>\n",
              "      <td>6.75</td>\n",
              "      <td>500.0</td>\n",
              "      <td>23.0</td>\n",
              "      <td>2.53</td>\n",
              "      <td>English</td>\n",
              "      <td>3</td>\n",
              "      <td>500</td>\n",
              "    </tr>\n",
              "    <tr>\n",
              "      <th>1</th>\n",
              "      <td>Guerrilla Data Analysis Using Microsoft Excel:...</td>\n",
              "      <td>[ Oz du Soleil,  and , Bill Jelen]</td>\n",
              "      <td>32.07</td>\n",
              "      <td>274.0</td>\n",
              "      <td>10.0</td>\n",
              "      <td>1.40</td>\n",
              "      <td>English</td>\n",
              "      <td>4</td>\n",
              "      <td>274</td>\n",
              "    </tr>\n",
              "    <tr>\n",
              "      <th>2</th>\n",
              "      <td>Python para Principiantes: 2 Libros en 1: Prog...</td>\n",
              "      <td>[ Programming Languages Academy]</td>\n",
              "      <td>19.38</td>\n",
              "      <td>234.0</td>\n",
              "      <td>56.0</td>\n",
              "      <td>1.47</td>\n",
              "      <td>Spanish</td>\n",
              "      <td>3</td>\n",
              "      <td>234</td>\n",
              "    </tr>\n",
              "    <tr>\n",
              "      <th>3</th>\n",
              "      <td>Excel Data Analysis For Dummies (For Dummies (...</td>\n",
              "      <td>[ Paul McFedries]</td>\n",
              "      <td>24.49</td>\n",
              "      <td>368.0</td>\n",
              "      <td>12.0</td>\n",
              "      <td>1.30</td>\n",
              "      <td>English</td>\n",
              "      <td>2</td>\n",
              "      <td>368</td>\n",
              "    </tr>\n",
              "    <tr>\n",
              "      <th>4</th>\n",
              "      <td>SQL for Data Analysis: Advanced Techniques for...</td>\n",
              "      <td>[ Cathy Tanimura]</td>\n",
              "      <td>40.49</td>\n",
              "      <td>360.0</td>\n",
              "      <td>72.0</td>\n",
              "      <td>1.20</td>\n",
              "      <td>English</td>\n",
              "      <td>5</td>\n",
              "      <td>360</td>\n",
              "    </tr>\n",
              "  </tbody>\n",
              "</table>\n",
              "</div>"
            ],
            "text/plain": [
              "                                               Title  \\\n",
              "0  Data Analysis Using R (Low Priced Edition): A ...   \n",
              "1  Guerrilla Data Analysis Using Microsoft Excel:...   \n",
              "2  Python para Principiantes: 2 Libros en 1: Prog...   \n",
              "3  Excel Data Analysis For Dummies (For Dummies (...   \n",
              "4  SQL for Data Analysis: Advanced Techniques for...   \n",
              "\n",
              "                               Author  Price  Pages  Reviews  Weight Language  \\\n",
              "0                 [ Dr Dhaval Maheta]   6.75  500.0     23.0    2.53  English   \n",
              "1  [ Oz du Soleil,  and , Bill Jelen]  32.07  274.0     10.0    1.40  English   \n",
              "2    [ Programming Languages Academy]  19.38  234.0     56.0    1.47  Spanish   \n",
              "3                   [ Paul McFedries]  24.49  368.0     12.0    1.30  English   \n",
              "4                   [ Cathy Tanimura]  40.49  360.0     72.0    1.20  English   \n",
              "\n",
              "   User Rating  pages  \n",
              "0            3    500  \n",
              "1            4    274  \n",
              "2            3    234  \n",
              "3            2    368  \n",
              "4            5    360  "
            ]
          },
          "execution_count": 4,
          "metadata": {},
          "output_type": "execute_result"
        }
      ],
      "source": [
        "# Display the first five rows of dataset\n",
        "\n",
        "df.head(5)"
      ]
    },
    {
      "cell_type": "markdown",
      "id": "5cf9d538",
      "metadata": {
        "id": "5cf9d538"
      },
      "source": [
        "<h3>Range</h3>\n"
      ]
    },
    {
      "cell_type": "markdown",
      "id": "3a1b9323",
      "metadata": {
        "id": "3a1b9323"
      },
      "source": [
        "Range is the difference of Maximum and Minimum value of data points"
      ]
    },
    {
      "cell_type": "markdown",
      "id": "1c888022",
      "metadata": {
        "id": "1c888022"
      },
      "source": [
        "<h3>Calculate Range</h3>"
      ]
    },
    {
      "cell_type": "markdown",
      "id": "980999a5",
      "metadata": {
        "id": "980999a5"
      },
      "source": [
        "You will calculate Range by creating a function in python<br>\n"
      ]
    },
    {
      "cell_type": "code",
      "execution_count": null,
      "id": "7c5ec8cd",
      "metadata": {
        "id": "7c5ec8cd"
      },
      "outputs": [],
      "source": [
        "def calculate_range(column):\n",
        "\n",
        "    \"\"\" This function calculates\n",
        "    the Range of given column\"\"\"\n",
        "\n",
        "    minimum=min(column)\n",
        "    maximum=max(column)\n",
        "    Range= maximum-minimum\n",
        "    return Range"
      ]
    },
    {
      "cell_type": "code",
      "execution_count": null,
      "id": "ad96f189",
      "metadata": {
        "id": "ad96f189",
        "outputId": "be1b34ba-7c5a-4dad-b9ae-a7a7b5070a19"
      },
      "outputs": [
        {
          "name": "stdout",
          "output_type": "stream",
          "text": [
            "826.0\n",
            "26559.0\n",
            "1317.75\n"
          ]
        }
      ],
      "source": [
        "# Print values for range for columns\n",
        "\n",
        "print(calculate_range(df[\"Pages\"]))\n",
        "print(calculate_range(df[\"Reviews\"]))\n",
        "print(calculate_range(df[\"Price\"]))"
      ]
    },
    {
      "cell_type": "markdown",
      "id": "82b962aa",
      "metadata": {
        "id": "82b962aa"
      },
      "source": [
        "<h3>IQR</h3>"
      ]
    },
    {
      "cell_type": "markdown",
      "id": "284762de",
      "metadata": {
        "id": "284762de"
      },
      "source": [
        "InterQuartileRange is the difference of third quartile and first quartile of data points"
      ]
    },
    {
      "cell_type": "markdown",
      "id": "694bfadd",
      "metadata": {
        "id": "694bfadd"
      },
      "source": [
        "<h3>Calculate IQR</h3>\n",
        "<br>\n",
        "You will calculate IQR by creating a function in python<br>"
      ]
    },
    {
      "cell_type": "code",
      "execution_count": null,
      "id": "13d560d1",
      "metadata": {
        "id": "13d560d1"
      },
      "outputs": [],
      "source": [
        "def calculate_iqr(data):\n",
        "\n",
        "    \"\"\" This function calculates\n",
        "    the IQR of given column\"\"\"\n",
        "\n",
        "    data=data.dropna()\n",
        "    sorted_data = sorted(data)\n",
        "    n = len(sorted_data)\n",
        "    q1_index = int(0.25 * (n + 1))\n",
        "    q3_index = int(0.75 * (n + 1))\n",
        "    q1 = sorted_data[q1_index - 1]\n",
        "    q3 = sorted_data[q3_index - 1]\n",
        "    iqr = q3 - q1\n",
        "\n",
        "    return iqr\n",
        "\n",
        "\n",
        ""
      ]
    },
    {
      "cell_type": "code",
      "execution_count": null,
      "id": "4f798821",
      "metadata": {
        "id": "4f798821",
        "outputId": "9d7b01f5-e7f0-4a60-87ee-5b49d53bdd45"
      },
      "outputs": [
        {
          "name": "stdout",
          "output_type": "stream",
          "text": [
            "242.0\n",
            "159.0\n",
            "28.51\n"
          ]
        }
      ],
      "source": [
        "# Print values for IQR for columns\n",
        "\n",
        "print(calculate_iqr(df[\"Pages\"]))\n",
        "print(calculate_iqr(df[\"Reviews\"]))\n",
        "print(calculate_iqr(df[\"Price\"]))"
      ]
    },
    {
      "cell_type": "code",
      "execution_count": null,
      "id": "ba2ab7c8",
      "metadata": {
        "id": "ba2ab7c8"
      },
      "outputs": [],
      "source": []
    },
    {
      "cell_type": "code",
      "execution_count": null,
      "id": "1881a9e7",
      "metadata": {
        "id": "1881a9e7"
      },
      "outputs": [],
      "source": []
    },
    {
      "cell_type": "code",
      "execution_count": null,
      "id": "78c38bc0",
      "metadata": {
        "id": "78c38bc0"
      },
      "outputs": [],
      "source": []
    },
    {
      "cell_type": "code",
      "execution_count": null,
      "id": "97772cb6",
      "metadata": {
        "id": "97772cb6"
      },
      "outputs": [],
      "source": []
    }
  ],
  "metadata": {
    "kernelspec": {
      "display_name": "Python 3",
      "language": "python",
      "name": "python3"
    },
    "language_info": {
      "codemirror_mode": {
        "name": "ipython",
        "version": 3
      },
      "file_extension": ".py",
      "mimetype": "text/x-python",
      "name": "python",
      "nbconvert_exporter": "python",
      "pygments_lexer": "ipython3",
      "version": "3.5.6"
    },
    "colab": {
      "provenance": []
    }
  },
  "nbformat": 4,
  "nbformat_minor": 5
}